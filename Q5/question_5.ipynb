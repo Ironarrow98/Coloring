{
 "cells": [
  {
   "cell_type": "code",
   "execution_count": 1,
   "metadata": {
    "id": "M-tn7Dzam7hM"
   },
   "outputs": [],
   "source": [
    "def get_max_color(colors, ignore):\n",
    "    max = 0\n",
    "    max_color = \"\"\n",
    "    for color in colors.keys():\n",
    "        if color not in ignore and colors[color] > max:\n",
    "            max = colors[color]\n",
    "            max_color = color\n",
    "    if max_color == \"\":\n",
    "        max_color = get_max_color(colors, [])\n",
    "    return max_color\n"
   ]
  },
  {
   "cell_type": "code",
   "execution_count": 2,
   "metadata": {
    "id": "wYoykrJ0m98K"
   },
   "outputs": [],
   "source": [
    "def get_color(L, colors):\n",
    "    grid = []\n",
    "    g = []\n",
    "    for i in range(L):\n",
    "        g.append(i)\n",
    "    for i in range(L):\n",
    "        grid.append(g.copy())\n",
    "    for i in range(L):\n",
    "        for j in range(L):\n",
    "            ignore = []\n",
    "            if i == 0 and j == 0:\n",
    "                pass\n",
    "            elif i == 0 and j != 0:\n",
    "                ignore.append(grid[0][j-1])\n",
    "            elif i != 0 and j == 0:\n",
    "                ignore.append(grid[i-1][0])\n",
    "            else:\n",
    "                ignore.append(grid[i - 1][j])\n",
    "                ignore.append(grid[i][j - 1])\n",
    "            grid[i][j] = get_max_color(colors, ignore)\n",
    "            colors[grid[i][j]] -= 1\n",
    "    return grid\n"
   ]
  },
  {
   "cell_type": "code",
   "execution_count": 3,
   "metadata": {
    "colab": {
     "base_uri": "https://localhost:8080/"
    },
    "id": "czfw1gminLdB",
    "outputId": "81e1d409-b203-4f93-c157-e3cb20028a66"
   },
   "outputs": [],
   "source": [
    "L1 = 5\n",
    "L2 = 64\n",
    "colors_1 = {\"R\": 12, \"B\": 13}\n",
    "colors_2 = {\"R\": 139, \"B\": 1451, \"G\": 977, \"W\": 1072, \"Y\": 457}\n",
    "\n",
    "f = open(\"output_data/output_question_5_1\", \"w\")\n",
    "grid_1 = get_color(L1, colors_1)\n",
    "for i in range(L1):\n",
    "    s = \"\"\n",
    "    for j in range(L1):\n",
    "        s += grid_1[i][j]\n",
    "        s += \"\\t\"\n",
    "    s += \"\\n\"\n",
    "    f.write(s)\n",
    "f.close()\n",
    "    \n",
    "f = open(\"output_data/output_question_5_2\", \"w\")\n",
    "grid_2 = get_color(L2, colors_2)\n",
    "for i in range(L2):\n",
    "    s = \"\"\n",
    "    for j in range(L2):\n",
    "        s += grid_2[i][j]\n",
    "        s += \"\\t\"\n",
    "    s += \"\\n\"\n",
    "    f.write(s)\n",
    "f.close()\n"
   ]
  }
 ],
 "metadata": {
  "colab": {
   "collapsed_sections": [],
   "name": "question_5.ipynb",
   "provenance": []
  },
  "kernelspec": {
   "display_name": "Python 3",
   "language": "python",
   "name": "python3"
  },
  "language_info": {
   "codemirror_mode": {
    "name": "ipython",
    "version": 3
   },
   "file_extension": ".py",
   "mimetype": "text/x-python",
   "name": "python",
   "nbconvert_exporter": "python",
   "pygments_lexer": "ipython3",
   "version": "3.8.3"
  }
 },
 "nbformat": 4,
 "nbformat_minor": 1
}
